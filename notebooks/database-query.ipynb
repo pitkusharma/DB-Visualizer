{
 "cells": [
  {
   "cell_type": "code",
   "execution_count": 74,
   "id": "0f85ab90-f2e4-4c36-8d6a-753c4a4f0161",
   "metadata": {},
   "outputs": [
    {
     "data": {
      "text/plain": [
       "<langchain_community.utilities.sql_database.SQLDatabase at 0x217d3ae5810>"
      ]
     },
     "execution_count": 74,
     "metadata": {},
     "output_type": "execute_result"
    }
   ],
   "source": [
    "from langchain.sql_database import SQLDatabase\n",
    "from urllib.parse import quote_plus\n",
    "\n",
    "def connect_to_database(db_type, username, password, host, port, db_name):\n",
    "    \"\"\"\n",
    "    Connects to a database using LangChain's SQLDatabase.from_uri.\n",
    "\n",
    "    Args:\n",
    "        db_type (str): Type of the database ('postgresql', 'mysql', or 'mssql').\n",
    "        username (str): Database username.\n",
    "        password (str): Database password.\n",
    "        host (str): Database host (typically 'localhost').\n",
    "        port (int): Database port number.\n",
    "        db_name (str): Name of the database.\n",
    "\n",
    "    Returns:\n",
    "        SQLDatabase instance connected to the specified database.\n",
    "    \"\"\"\n",
    "    db_type = db_type.lower()\n",
    "\n",
    "    if db_type == \"postgresql\":\n",
    "        uri = f\"postgresql+psycopg2://{username}:{password}@{host}:{port}/{db_name}\"\n",
    "\n",
    "    elif db_type == \"mysql\":\n",
    "        uri = f\"mysql+pymysql://{username}:{password}@{host}:{port}/{db_name}\"\n",
    "\n",
    "    elif db_type == \"mssql\":\n",
    "        uri = f\"mssql+pyodbc://{username}:{quote_plus(password)}@{host},{port}/{db_name}?driver=ODBC+Driver+17+for+SQL+Server\"\n",
    "\n",
    "    else:\n",
    "        raise ValueError(f\"Unsupported database type: {db_type}\")\n",
    "\n",
    "    return SQLDatabase.from_uri(uri)\n",
    "\n",
    "db = connect_to_database(\"mysql\", \"root\", \"root\", \"localhost\", 3306, \"classicmodels\")\n",
    "db"
   ]
  },
  {
   "cell_type": "code",
   "execution_count": 75,
   "id": "dd97e11f-5518-4cdb-a303-bda6eea36779",
   "metadata": {},
   "outputs": [],
   "source": [
    "from sqlalchemy import inspect\n",
    "\n",
    "def get_compact_schema_summary(sql_db):\n",
    "    inspector = inspect(sql_db._engine)\n",
    "    summary_lines = []\n",
    "\n",
    "    for table_name in inspector.get_table_names():\n",
    "        columns = inspector.get_columns(table_name)\n",
    "        column_defs = [\n",
    "            f\"{col['name']} ({col['type']})\" for col in columns\n",
    "        ]\n",
    "        summary = f\"Table: {table_name} → \" + \", \".join(column_defs)\n",
    "        summary_lines.append(summary)\n",
    "\n",
    "    return \"\\n\".join(summary_lines)"
   ]
  },
  {
   "cell_type": "code",
   "execution_count": 76,
   "id": "a8b539bf-f9ef-4d99-8540-edd83e6af549",
   "metadata": {},
   "outputs": [
    {
     "data": {
      "text/plain": [
       "'Table: customers → customerNumber (INTEGER), customerName (VARCHAR(50)), contactLastName (VARCHAR(50)), contactFirstName (VARCHAR(50)), phone (VARCHAR(50)), addressLine1 (VARCHAR(50)), addressLine2 (VARCHAR(50)), city (VARCHAR(50)), state (VARCHAR(50)), postalCode (VARCHAR(15)), country (VARCHAR(50)), salesRepEmployeeNumber (INTEGER), creditLimit (DECIMAL(10, 2))\\nTable: employees → employeeNumber (INTEGER), lastName (VARCHAR(50)), firstName (VARCHAR(50)), extension (VARCHAR(10)), email (VARCHAR(100)), officeCode (VARCHAR(10)), reportsTo (INTEGER), jobTitle (VARCHAR(50))\\nTable: offices → officeCode (VARCHAR(10)), city (VARCHAR(50)), phone (VARCHAR(50)), addressLine1 (VARCHAR(50)), addressLine2 (VARCHAR(50)), state (VARCHAR(50)), country (VARCHAR(50)), postalCode (VARCHAR(15)), territory (VARCHAR(10))\\nTable: orderdetails → orderNumber (INTEGER), productCode (VARCHAR(15)), quantityOrdered (INTEGER), priceEach (DECIMAL(10, 2)), orderLineNumber (SMALLINT)\\nTable: orders → orderNumber (INTEGER), orderDate (DATE), requiredDate (DATE), shippedDate (DATE), status (VARCHAR(15)), comments (TEXT), customerNumber (INTEGER)\\nTable: payments → customerNumber (INTEGER), checkNumber (VARCHAR(50)), paymentDate (DATE), amount (DECIMAL(10, 2))\\nTable: productlines → productLine (VARCHAR(50)), textDescription (VARCHAR(4000)), htmlDescription (MEDIUMTEXT), image (MEDIUMBLOB)\\nTable: products → productCode (VARCHAR(15)), productName (VARCHAR(70)), productLine (VARCHAR(50)), productScale (VARCHAR(10)), productVendor (VARCHAR(50)), productDescription (TEXT), quantityInStock (SMALLINT), buyPrice (DECIMAL(10, 2)), MSRP (DECIMAL(10, 2))'"
      ]
     },
     "execution_count": 76,
     "metadata": {},
     "output_type": "execute_result"
    }
   ],
   "source": [
    "# len(db.get_table_info().split(' '))\n",
    "get_compact_schema_summary(db)"
   ]
  },
  {
   "cell_type": "code",
   "execution_count": 77,
   "id": "eb44fc63-cfad-4a0f-b339-165f22df8dd6",
   "metadata": {},
   "outputs": [
    {
     "data": {
      "text/plain": [
       "True"
      ]
     },
     "execution_count": 77,
     "metadata": {},
     "output_type": "execute_result"
    }
   ],
   "source": [
    "from dotenv import load_dotenv\n",
    "\n",
    "# This loads variables from .env into our environment\n",
    "load_dotenv()"
   ]
  },
  {
   "cell_type": "code",
   "execution_count": 78,
   "id": "66230a60-c7fe-4bca-b17f-24cd953d378c",
   "metadata": {},
   "outputs": [],
   "source": [
    "from langchain_google_genai.chat_models import ChatGoogleGenerativeAI\n",
    "import os\n",
    "\n",
    "\n",
    "llm = ChatGoogleGenerativeAI(\n",
    "    model='gemini-2.0-flash',\n",
    "    google_api_key=os.getenv(\"GOOGLE_API_KEY\"),\n",
    "    temperature=0.2\n",
    ")"
   ]
  },
  {
   "cell_type": "code",
   "execution_count": 79,
   "id": "e77cb9cf-da49-4f9f-8c5e-082c26fde201",
   "metadata": {},
   "outputs": [
    {
     "data": {
      "text/plain": [
       "'Hi there! How can I help you today?'"
      ]
     },
     "execution_count": 79,
     "metadata": {},
     "output_type": "execute_result"
    }
   ],
   "source": [
    "llm.invoke('Hii').content"
   ]
  },
  {
   "cell_type": "code",
   "execution_count": 80,
   "id": "627de248-2a02-4add-8b91-538e5c173e53",
   "metadata": {},
   "outputs": [],
   "source": [
    "from typing_extensions import TypedDict\n",
    "import pandas as pd\n",
    "from functools import wraps\n",
    "from typing import Callable\n",
    "\n",
    "class State(TypedDict, total=False):\n",
    "    status: bool\n",
    "    user_request: str\n",
    "    generated_query: str\n",
    "    query_result: str\n",
    "    answer: str\n",
    "    query_result_df: pd.DataFrame\n",
    "    graph_required: bool\n",
    "    graph_code: str\n",
    "    reason: str\n",
    "    table_required: bool\n",
    "    answer: str\n",
    "\n",
    "def manage_state(func: Callable) -> Callable:\n",
    "    \"\"\"Handels state object updation, error handelling.\"\"\"\n",
    "    @wraps(func)\n",
    "    def wrapper(*args, **kwargs):\n",
    "        # Fetch 'state' from either args[0] or kwargs['state']\n",
    "        state = kwargs.get(\"state\") or (args[0] if len(args) > 0 else None)\n",
    "\n",
    "        # If state status is False we are not executing the function and just returning the existing state\n",
    "        if state is None or not state.get(\"status\", False):\n",
    "            return state\n",
    "        \n",
    "        result = func(*args, **kwargs)\n",
    "\n",
    "        # Updating the state\n",
    "        for key, val in result.items():\n",
    "            state[key] = result[key]\n",
    "        \n",
    "        return state\n",
    "    return wrapper\n"
   ]
  },
  {
   "cell_type": "code",
   "execution_count": 81,
   "id": "cc3161d9-fcf6-4632-92d0-dc353c38d8d4",
   "metadata": {},
   "outputs": [],
   "source": [
    "from langchain_core.prompts import ChatPromptTemplate\n",
    "\n",
    "system_message = \"\"\"\n",
    "Given an input question, generate a syntactically correct {dialect} SELECT query that can help retrieve the answer.\n",
    "\n",
    "# Constraints and Expectations:\n",
    "\n",
    "- You must generate only SELECT-type queries.  \n",
    "  If the input asks for a non-SELECT operation (e.g., UPDATE, INSERT, DELETE, CREATE), or cannot be satisfied using data selection alone (e.g., training models, modifying schemas), set `status` to False and provide a clear explanation in `reason`. Do not return any query in such cases.\n",
    "\n",
    "- If the question is about database metadata (e.g., listing tables, showing columns, describing schema), generate a SELECT query using standard catalog views such as `information_schema.tables` or `information_schema.columns` (if supported in {dialect}).\n",
    "\n",
    "- If the input includes terms like \"plot\", \"graph\", \"visualize\", or \"chart\", assume the user wants to visualize the data — and generate the SELECT query required to retrieve that data. Do not reject these inputs.\n",
    "\n",
    "- Never use `SELECT *`. Always select only the relevant columns based on the question.\n",
    "\n",
    "- If the user requests “all”, “entire list”, “complete list”, or explicitly wants all records, DO NOT include a LIMIT clause.  \n",
    "  In all other cases, limit the query to at most {top_k} records.\n",
    "\n",
    "- Use only the columns and tables that are defined in the provided schema. Do not reference any names that are not listed.\n",
    "\n",
    "- If the query is successfully generated and `status` is True:\n",
    "  - Set `reason` to an empty string (`\"\"`).\n",
    "  - Do NOT explain anything or include additional comments.\n",
    "\n",
    "Schema available:\n",
    "{table_info}\n",
    "\"\"\"\n",
    "\n",
    "\n",
    "user_prompt = \"Request: {input}\"\n",
    "\n",
    "query_prompt_template = ChatPromptTemplate(\n",
    "    [(\"system\", system_message), (\"user\", user_prompt)]\n",
    ")\n"
   ]
  },
  {
   "cell_type": "code",
   "execution_count": 82,
   "id": "957403b3-d44b-4544-9f3c-09094234e9d6",
   "metadata": {},
   "outputs": [],
   "source": [
    "# for message in query_prompt_template.messages:\n",
    "    # message.pretty_print()"
   ]
  },
  {
   "cell_type": "code",
   "execution_count": 83,
   "id": "dbc34e1b-1115-48ce-ae1f-f2acc1051a89",
   "metadata": {},
   "outputs": [],
   "source": [
    "from typing_extensions import Annotated\n",
    "\n",
    "\n",
    "class QueryOutput(TypedDict):\n",
    "    \"\"\"Structure of the generated SQL query output.\"\"\"\n",
    "\n",
    "    status: Annotated[bool, \"True if the query was successfully generated and is valid; False otherwise.\"]\n",
    "    reason: Annotated[str, \"Reason for failure while generating the query (if query generation is successful keep it as empty string.).\"]\n",
    "    generated_query: Annotated[str, \"Syntactically valid SQL SELECT query.\"]\n",
    "\n",
    "\n",
    "@manage_state\n",
    "def write_query(state: State, llm, db):\n",
    "    \"\"\"Generate SQL query to fetch information.\"\"\"\n",
    "    \n",
    "    prompt = query_prompt_template.invoke(\n",
    "        {\n",
    "            \"dialect\": db.dialect,\n",
    "            \"top_k\": 15,\n",
    "            \"table_info\": get_compact_schema_summary(db), # db.get_table_info(),\n",
    "            \"input\": state[\"user_request\"],\n",
    "        }\n",
    "    )\n",
    "    structured_llm = llm.with_structured_output(QueryOutput)\n",
    "    result = structured_llm.invoke(prompt)\n",
    "    return result"
   ]
  },
  {
   "cell_type": "code",
   "execution_count": 84,
   "id": "3faeda2b-64d5-43f1-b943-3f42873e860c",
   "metadata": {},
   "outputs": [
    {
     "data": {
      "text/plain": [
       "{'status': True,\n",
       " 'user_request': 'show which products are sold most and their sold count',\n",
       " 'reason': '',\n",
       " 'generated_query': 'SELECT productCode, sum(quantityOrdered) AS total_quantity_ordered FROM orderdetails GROUP BY productCode ORDER BY total_quantity_ordered DESC LIMIT 15;'}"
      ]
     },
     "execution_count": 84,
     "metadata": {},
     "output_type": "execute_result"
    }
   ],
   "source": [
    "write_query({\"status\": True, \"user_request\": \"show which products are sold most and their sold count\"}, llm, db)"
   ]
  },
  {
   "cell_type": "code",
   "execution_count": 11,
   "id": "64e3de62-6735-4de5-b2e6-573e937a76db",
   "metadata": {},
   "outputs": [],
   "source": [
    "from typing_extensions import TypedDict, Annotated\n",
    "from typing import List, Dict\n",
    "from langchain_core.language_models.base import BaseLanguageModel\n",
    "\n",
    "\n",
    "class ColumnExtractionOutput(TypedDict, total=False):\n",
    "    status: Annotated[bool, \"True if successful, False otherwise\"]\n",
    "    column_names: Annotated[List[str], \"List of column names extracted\"]\n",
    "    reason: Annotated[str, \"Reason for failure if status is False\"]\n",
    "\n",
    "\n",
    "@manage_state\n",
    "def get_column_names_from_query(state: State, llm) -> ColumnExtractionOutput:\n",
    "    \"\"\"\n",
    "    Use LLM to extract column names or aliases from a SQL SELECT query.\n",
    "    These column names will be used to construct a DataFrame from the result of the query.\n",
    "    \"\"\"\n",
    "    query = state.get(\"generated_query\", \"\").strip()\n",
    "    \n",
    "    prompt = (\n",
    "        \"You are given a SQL SELECT query. Extract **only** the output column names or aliases \"\n",
    "        \"in the exact order they will appear in the result set. \"\n",
    "        \"Return the result as a JSON object with this format:\\n\"\n",
    "        \"{ \\\"status\\\": true, \\\"column_names\\\": [\\\"col1\\\", \\\"col2\\\", ...] }\\n\\n\"\n",
    "        \"If extraction fails, return:\\n\"\n",
    "        \"{ \\\"status\\\": false, \\\"reason\\\": \\\"<failure reason>\\\" }\\n\\n\"\n",
    "        \"This is needed to construct a DataFrame from the query result.\\n\\n\"\n",
    "        f\"SQL Query:\\n{query}\"\n",
    "    )\n",
    "\n",
    "    structured_llm = llm.with_structured_output(ColumnExtractionOutput)\n",
    "    result = structured_llm.invoke(prompt)\n",
    "\n",
    "    return result\n"
   ]
  },
  {
   "cell_type": "code",
   "execution_count": 12,
   "id": "28cf125f-175f-4fb7-ae5c-fcd5a4ac19e2",
   "metadata": {},
   "outputs": [],
   "source": [
    "# get_column_names_from_query({'status': True, 'generated_query': \"SELECT c.customer_id AS customer_id, CONCAT(c.first_name, ' ', c.last_name) AS full_name, a.address AS address, ci.city AS city, co.country AS country, COUNT(r.rental_id) AS total_rentals, SUM(p.amount) AS total_amount_paid, MAX(p.payment_date) AS last_payment_date FROM customer c JOIN address a ON c.address_id = a.address_id JOIN city ci ON a.city_id = ci.city_id JOIN country co ON ci.country_id = co.country_id LEFT JOIN rental r ON c.customer_id = r.customer_id LEFT JOIN payment p ON r.rental_id = p.rental_id WHERE co.country = 'United States' GROUP BY c.customer_id, full_name, a.address, ci.city, co.country ORDER BY total_amount_paid DESC LIMIT 10;\"}, llm)"
   ]
  },
  {
   "cell_type": "code",
   "execution_count": 13,
   "id": "899ee61f-939b-4a42-85ac-9769cbf7b588",
   "metadata": {},
   "outputs": [],
   "source": [
    "@manage_state\n",
    "def execute_query(state: State, db):\n",
    "    \"\"\"Execute SQL query.\"\"\"\n",
    "    try:\n",
    "        query_result = db._execute(state[\"generated_query\"])\n",
    "        result = {'status': True, 'query_result': query_result}\n",
    "    except Exception as e:\n",
    "        result = {'status': False, 'reason': str(e)}\n",
    "    return result"
   ]
  },
  {
   "cell_type": "code",
   "execution_count": 14,
   "id": "d8c69291-a409-41c3-a786-e6c229c41bc1",
   "metadata": {},
   "outputs": [],
   "source": [
    "# execute_query({'status': True, 'generated_query': 'SELECT actor_id, first_name, last_name, last_update FROM actor LIMIT 10'}, db)"
   ]
  },
  {
   "cell_type": "code",
   "execution_count": 32,
   "id": "ec21b328-290e-4b1c-8b75-2423a369fc4e",
   "metadata": {},
   "outputs": [],
   "source": [
    "import pandas as pd\n",
    "from typing import Dict\n",
    "\n",
    "@manage_state\n",
    "def construct_dataframe(state: State) -> Dict:\n",
    "    \"\"\"\n",
    "    Constructs a pandas DataFrame from the query result.\n",
    "    \"\"\"\n",
    "    data = state.get(\"query_result\")\n",
    "    if not isinstance(data, (list, tuple)) or not data:\n",
    "        raise ValueError(\"Error processing request. reason: internal server error.\")\n",
    "    \n",
    "    df = pd.DataFrame(data)\n",
    "    return {'query_result_df': df}\n"
   ]
  },
  {
   "cell_type": "code",
   "execution_count": 33,
   "id": "551f5713-577d-4a70-b684-beae560619d1",
   "metadata": {},
   "outputs": [
    {
     "name": "stderr",
     "output_type": "stream",
     "text": [
      "C:\\Users\\arun.sharma.baartech.baartech.baariga.local\\.conda\\envs\\py3.13-genai\\Lib\\site-packages\\langchain_community\\utilities\\sql_database.py:338: SAWarning: Cannot correctly sort tables; there are unresolvable cycles between tables \"staff, store\", which is usually caused by mutually dependent foreign key constraints.  Foreign key constraints involving these tables will not be considered; this warning may raise an error in a future release.\n",
      "  metadata_table_names = [tbl.name for tbl in self._metadata.sorted_tables]\n",
      "C:\\Users\\arun.sharma.baartech.baartech.baariga.local\\.conda\\envs\\py3.13-genai\\Lib\\site-packages\\langchain_community\\utilities\\sql_database.py:350: SAWarning: Cannot correctly sort tables; there are unresolvable cycles between tables \"staff, store\", which is usually caused by mutually dependent foreign key constraints.  Foreign key constraints involving these tables will not be considered; this warning may raise an error in a future release.\n",
      "  for tbl in self._metadata.sorted_tables\n"
     ]
    },
    {
     "data": {
      "text/plain": [
       "{'status': True,\n",
       " 'user_request': 'plot actors and their film counts',\n",
       " 'reason': '',\n",
       " 'generated_query': 'SELECT A.first_name, A.last_name, count(FA.film_id) FROM actor AS A JOIN film_actor AS FA ON A.actor_id = FA.actor_id GROUP BY A.actor_id LIMIT 15',\n",
       " 'column_names': ['first_name', 'last_name', 'count'],\n",
       " 'query_result': [{'first_name': 'PENELOPE',\n",
       "   'last_name': 'GUINESS',\n",
       "   'count(FA.film_id)': 19},\n",
       "  {'first_name': 'NICK', 'last_name': 'WAHLBERG', 'count(FA.film_id)': 25},\n",
       "  {'first_name': 'ED', 'last_name': 'CHASE', 'count(FA.film_id)': 22},\n",
       "  {'first_name': 'JENNIFER', 'last_name': 'DAVIS', 'count(FA.film_id)': 22},\n",
       "  {'first_name': 'JOHNNY',\n",
       "   'last_name': 'LOLLOBRIGIDA',\n",
       "   'count(FA.film_id)': 29},\n",
       "  {'first_name': 'BETTE', 'last_name': 'NICHOLSON', 'count(FA.film_id)': 20},\n",
       "  {'first_name': 'GRACE', 'last_name': 'MOSTEL', 'count(FA.film_id)': 30},\n",
       "  {'first_name': 'MATTHEW', 'last_name': 'JOHANSSON', 'count(FA.film_id)': 20},\n",
       "  {'first_name': 'JOE', 'last_name': 'SWANK', 'count(FA.film_id)': 25},\n",
       "  {'first_name': 'CHRISTIAN', 'last_name': 'GABLE', 'count(FA.film_id)': 22},\n",
       "  {'first_name': 'ZERO', 'last_name': 'CAGE', 'count(FA.film_id)': 25},\n",
       "  {'first_name': 'KARL', 'last_name': 'BERRY', 'count(FA.film_id)': 31},\n",
       "  {'first_name': 'UMA', 'last_name': 'WOOD', 'count(FA.film_id)': 35},\n",
       "  {'first_name': 'VIVIEN', 'last_name': 'BERGEN', 'count(FA.film_id)': 30},\n",
       "  {'first_name': 'CUBA', 'last_name': 'OLIVIER', 'count(FA.film_id)': 28}],\n",
       " 'query_result_df':    first_name     last_name  count(FA.film_id)\n",
       " 0    PENELOPE       GUINESS                 19\n",
       " 1        NICK      WAHLBERG                 25\n",
       " 2          ED         CHASE                 22\n",
       " 3    JENNIFER         DAVIS                 22\n",
       " 4      JOHNNY  LOLLOBRIGIDA                 29\n",
       " 5       BETTE     NICHOLSON                 20\n",
       " 6       GRACE        MOSTEL                 30\n",
       " 7     MATTHEW     JOHANSSON                 20\n",
       " 8         JOE         SWANK                 25\n",
       " 9   CHRISTIAN         GABLE                 22\n",
       " 10       ZERO          CAGE                 25\n",
       " 11       KARL         BERRY                 31\n",
       " 12        UMA          WOOD                 35\n",
       " 13     VIVIEN        BERGEN                 30\n",
       " 14       CUBA       OLIVIER                 28}"
      ]
     },
     "execution_count": 33,
     "metadata": {},
     "output_type": "execute_result"
    }
   ],
   "source": [
    "state = State(status=True)\n",
    "state['user_request'] = 'plot actors and their film counts'\n",
    "\n",
    "state = write_query(state, llm, db)\n",
    "\n",
    "state = get_column_names_from_query(state, llm)\n",
    "\n",
    "state = execute_query(state, db)\n",
    "\n",
    "state = construct_dataframe(state)\n",
    "\n",
    "state"
   ]
  },
  {
   "cell_type": "code",
   "execution_count": 17,
   "id": "22d63faa-2a84-45bb-be76-aa5cf4e1de2e",
   "metadata": {},
   "outputs": [],
   "source": [
    "from typing_extensions import Annotated, TypedDict, NotRequired\n",
    "import pandas as pd\n",
    "\n",
    "class AnswerOutput(TypedDict):\n",
    "    status: Annotated[bool, \"True if request processing was successful, otherwise False\"]\n",
    "    answer: Annotated[str, \"Concise natural language summary; leave empty if not applicable\"]\n",
    "    graph_required: Annotated[bool, \"True if graphical output is suitable\"]\n",
    "    graph_code: Annotated[str, \"Matplotlib code using `query_result_df`; leave empty if not applicable\"]\n",
    "    table_required: Annotated[bool, \"True if table output is suitable\"]\n",
    "    reason: Annotated[str, \"Explain failure if status is false; otherwise leave empty\"]\n",
    "\n",
    "@manage_state\n",
    "def generate_answer(state: State, llm) -> AnswerOutput:\n",
    "    \"\"\"\n",
    "    Analyze user request, SQL query, and result sample to generate structured answer output.\n",
    "    Uses the DataFrame variable name 'query_result_df' in prompt and expected output.\n",
    "    \"\"\"\n",
    "    query_result_df = state['query_result_df']\n",
    "    sample_rows = query_result_df.head(3).to_dict(orient=\"records\")\n",
    "    column_names = list(query_result_df.columns)\n",
    "\n",
    "    prompt = (\n",
    "        \"You are a data analysis assistant. Analyze the following inputs:\\n\"\n",
    "        \"- A user question\\n\"\n",
    "        \"- A corresponding SQL query\\n\"\n",
    "        \"- A sample of the SQL query result (assume full data is in a pandas DataFrame named `query_result_df`)\\n\\n\"\n",
    "        \"You must return a JSON object with the following structure:\\n\"\n",
    "        \"{\\n\"\n",
    "        '  \"status\": true | false,\\n'\n",
    "        '  \"answer\": \"concise natural language summary (only if status is true othersie leave it blank)\",\\n'\n",
    "        '  \"graph_required\": true | false,\\n'\n",
    "        '  \"graph_code\": \"matplotlib code using the query_result_df variable (only if graph_required is true othersie leave it blank)\",\\n'\n",
    "        '  \"table_required\": true | false,\\n'\n",
    "        '  \"reason\": \"explanation for failure (only if status is false othersie leave it blank)\"\\n'\n",
    "        \"}\\n\\n\"\n",
    "        \"Rules:\\n\"\n",
    "        \"- Use the existing variable `query_result_df` in all graphing code.\\n\"\n",
    "        \"- Never include actual table data.\\n\"\n",
    "        \"- Avoid hardcoded values. Use column names and query_result_df operations.\\n\"\n",
    "        \"- Only return valid JSON. No explanations outside the JSON.\\n\"\n",
    "        \"- If the data includes rows and columns suitable for tabular display (like listings, joined information, or group summaries), set `table_required` to true.\\n\"\n",
    "        \"- If the user request explicitly or implicitly asks for a chart, visual representation, or uses terms like 'graph', 'plot', 'visualize', 'show trend', etc., set `graph_required` to true.\\n\"\n",
    "        \"- If unsure, prefer setting `table_required` to true and `graph_required` to false.\\n\\n\"\n",
    "        f\"User Request: {state['user_request']}\\n\"\n",
    "        f\"SQL Query: {state['generated_query']}\\n\"\n",
    "        f\"Result Columns: {column_names}\\n\"\n",
    "        f\"Sample Rows: {sample_rows}\\n\"\n",
    "    )\n",
    "\n",
    "    structured_llm = llm.with_structured_output(AnswerOutput)\n",
    "    result = structured_llm.invoke(prompt)\n",
    "    return result"
   ]
  },
  {
   "cell_type": "code",
   "execution_count": 18,
   "id": "0f726ee1-d362-4a07-903e-9cb1e25a6b2b",
   "metadata": {},
   "outputs": [],
   "source": [
    "# generate_answer(state, llm)"
   ]
  },
  {
   "cell_type": "code",
   "execution_count": 19,
   "id": "23909d59-7cf2-4ae8-81f5-3e8a5efd1c9d",
   "metadata": {},
   "outputs": [],
   "source": [
    "def pipeline(state: State, llm, db) -> State:\n",
    "    \"\"\"Execute pipeline from generating query to retrieving desired answer.\"\"\"\n",
    "    \n",
    "    # 1 Generate the SQL query\n",
    "    state = write_query(state, llm, db)\n",
    "\n",
    "    # 2 Execute the query and retrive the data from db\n",
    "    state = execute_query(state, db)\n",
    "\n",
    "    # 3 Construct the dataframe from data\n",
    "    state = construct_dataframe(state)\n",
    "\n",
    "    # 4 Generate the final answer\n",
    "    state = generate_answer(state, llm)\n",
    "    \n",
    "    return state\n"
   ]
  },
  {
   "cell_type": "code",
   "execution_count": 20,
   "id": "1bc5fafe-35da-43f3-9475-e58385400376",
   "metadata": {},
   "outputs": [
    {
     "name": "stderr",
     "output_type": "stream",
     "text": [
      "C:\\Users\\arun.sharma.baartech.baartech.baariga.local\\.conda\\envs\\py3.13-genai\\Lib\\site-packages\\langchain_community\\utilities\\sql_database.py:338: SAWarning: Cannot correctly sort tables; there are unresolvable cycles between tables \"staff, store\", which is usually caused by mutually dependent foreign key constraints.  Foreign key constraints involving these tables will not be considered; this warning may raise an error in a future release.\n",
      "  metadata_table_names = [tbl.name for tbl in self._metadata.sorted_tables]\n",
      "C:\\Users\\arun.sharma.baartech.baartech.baariga.local\\.conda\\envs\\py3.13-genai\\Lib\\site-packages\\langchain_community\\utilities\\sql_database.py:350: SAWarning: Cannot correctly sort tables; there are unresolvable cycles between tables \"staff, store\", which is usually caused by mutually dependent foreign key constraints.  Foreign key constraints involving these tables will not be considered; this warning may raise an error in a future release.\n",
      "  for tbl in self._metadata.sorted_tables\n"
     ]
    },
    {
     "data": {
      "text/plain": [
       "{'status': True,\n",
       " 'user_request': 'plot actors and their film counts',\n",
       " 'generated_query': 'SELECT A.first_name, A.last_name, count(FA.film_id) FROM actor AS A JOIN film_actor AS FA ON A.actor_id = FA.actor_id GROUP BY A.actor_id LIMIT 15',\n",
       " 'column_names': ['first_name', 'last_name', 'count'],\n",
       " 'query_result': [{'first_name': 'PENELOPE',\n",
       "   'last_name': 'GUINESS',\n",
       "   'count(FA.film_id)': 19},\n",
       "  {'first_name': 'NICK', 'last_name': 'WAHLBERG', 'count(FA.film_id)': 25},\n",
       "  {'first_name': 'ED', 'last_name': 'CHASE', 'count(FA.film_id)': 22},\n",
       "  {'first_name': 'JENNIFER', 'last_name': 'DAVIS', 'count(FA.film_id)': 22},\n",
       "  {'first_name': 'JOHNNY',\n",
       "   'last_name': 'LOLLOBRIGIDA',\n",
       "   'count(FA.film_id)': 29},\n",
       "  {'first_name': 'BETTE', 'last_name': 'NICHOLSON', 'count(FA.film_id)': 20},\n",
       "  {'first_name': 'GRACE', 'last_name': 'MOSTEL', 'count(FA.film_id)': 30},\n",
       "  {'first_name': 'MATTHEW', 'last_name': 'JOHANSSON', 'count(FA.film_id)': 20},\n",
       "  {'first_name': 'JOE', 'last_name': 'SWANK', 'count(FA.film_id)': 25},\n",
       "  {'first_name': 'CHRISTIAN', 'last_name': 'GABLE', 'count(FA.film_id)': 22},\n",
       "  {'first_name': 'ZERO', 'last_name': 'CAGE', 'count(FA.film_id)': 25},\n",
       "  {'first_name': 'KARL', 'last_name': 'BERRY', 'count(FA.film_id)': 31},\n",
       "  {'first_name': 'UMA', 'last_name': 'WOOD', 'count(FA.film_id)': 35},\n",
       "  {'first_name': 'VIVIEN', 'last_name': 'BERGEN', 'count(FA.film_id)': 30},\n",
       "  {'first_name': 'CUBA', 'last_name': 'OLIVIER', 'count(FA.film_id)': 28}],\n",
       " 'query_result_df':    first_name     last_name  count\n",
       " 0    PENELOPE       GUINESS    NaN\n",
       " 1        NICK      WAHLBERG    NaN\n",
       " 2          ED         CHASE    NaN\n",
       " 3    JENNIFER         DAVIS    NaN\n",
       " 4      JOHNNY  LOLLOBRIGIDA    NaN\n",
       " 5       BETTE     NICHOLSON    NaN\n",
       " 6       GRACE        MOSTEL    NaN\n",
       " 7     MATTHEW     JOHANSSON    NaN\n",
       " 8         JOE         SWANK    NaN\n",
       " 9   CHRISTIAN         GABLE    NaN\n",
       " 10       ZERO          CAGE    NaN\n",
       " 11       KARL         BERRY    NaN\n",
       " 12        UMA          WOOD    NaN\n",
       " 13     VIVIEN        BERGEN    NaN\n",
       " 14       CUBA       OLIVIER    NaN,\n",
       " 'graph_required': True,\n",
       " 'reason': '',\n",
       " 'graph_code': \"import matplotlib.pyplot as plt\\nquery_result_df['actor_name'] = query_result_df['first_name'] + ' ' + query_result_df['last_name']\\nplt.bar(query_result_df['actor_name'], query_result_df['count'])\\nplt.xlabel('Actor')\\nplt.ylabel('Film Count')\\nplt.title('Actor Film Counts')\\nplt.xticks(rotation=45, ha='right')\\nplt.tight_layout()\\nplt.show()\",\n",
       " 'table_required': False,\n",
       " 'answer': 'A plot of actors and their film counts is provided.'}"
      ]
     },
     "execution_count": 20,
     "metadata": {},
     "output_type": "execute_result"
    }
   ],
   "source": [
    "state = State(status=True)\n",
    "state['user_request'] = 'plot actors and their film counts'\n",
    "\n",
    "state = pipeline(state, llm, db)\n",
    "\n",
    "state"
   ]
  },
  {
   "cell_type": "code",
   "execution_count": null,
   "id": "c00fbbf9-c628-4a24-bcbb-9396ee09ed72",
   "metadata": {},
   "outputs": [],
   "source": []
  }
 ],
 "metadata": {
  "kernelspec": {
   "display_name": "Python 3.13 GenAI",
   "language": "python",
   "name": "py3.13-genai"
  },
  "language_info": {
   "codemirror_mode": {
    "name": "ipython",
    "version": 3
   },
   "file_extension": ".py",
   "mimetype": "text/x-python",
   "name": "python",
   "nbconvert_exporter": "python",
   "pygments_lexer": "ipython3",
   "version": "3.13.5"
  }
 },
 "nbformat": 4,
 "nbformat_minor": 5
}
